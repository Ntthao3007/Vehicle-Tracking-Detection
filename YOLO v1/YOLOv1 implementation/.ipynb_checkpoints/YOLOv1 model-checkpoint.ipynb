{
 "cells": [
  {
   "cell_type": "code",
   "execution_count": 2,
   "metadata": {},
   "outputs": [],
   "source": [
    "# Imports\n",
    "import torch\n",
    "import torch.nn as nn\n",
    "import torch.optim as optim\n",
    "import torchvision as transforms\n",
    "\n",
    "from os import listdir\n",
    "import random"
   ]
  },
  {
   "cell_type": "code",
   "execution_count": 5,
   "metadata": {},
   "outputs": [
    {
     "name": "stdout",
     "output_type": "stream",
     "text": [
      "torch.Size([2, 1470])\n"
     ]
    }
   ],
   "source": [
    "# Create model\n",
    "class YOLOv1(nn.Module):\n",
    "    def __init__(self, split_size, num_boxes, num_classes):\n",
    "        super(YOLOv1, self).__init__()\n",
    "        self.darkNet = nn.Sequential(\n",
    "            nn.Conv2d(3, 64, 7, padding=3, stride=2),\n",
    "                nn.BatchNorm2d(64),\n",
    "                nn.LeakyReLU(0.1),\n",
    "            nn.MaxPool2d(2, 2),\n",
    "            \n",
    "            nn.Conv2d(64, 192, 3, padding=1),\n",
    "                nn.BatchNorm2d(192),\n",
    "                nn.LeakyReLU(0.1),\n",
    "            nn.MaxPool2d(2, 2),\n",
    "            \n",
    "            nn.Conv2d(192, 128, 1),\n",
    "                nn.BatchNorm2d(128),\n",
    "                nn.LeakyReLU(0.1),\n",
    "            nn.Conv2d(128, 256, 3, padding=1),\n",
    "                nn.BatchNorm2d(256),\n",
    "                nn.LeakyReLU(0.1),\n",
    "            nn.Conv2d(256, 256, 1),\n",
    "                nn.BatchNorm2d(256),\n",
    "                nn.LeakyReLU(0.1),\n",
    "            nn.Conv2d(256, 512, 3, padding=1),\n",
    "                nn.BatchNorm2d(512),\n",
    "                nn.LeakyReLU(0.1),\n",
    "            nn.MaxPool2d(2, 2),\n",
    "            \n",
    "            nn.Conv2d(512, 256, 1),\n",
    "                nn.BatchNorm2d(256),\n",
    "                nn.LeakyReLU(0.1),\n",
    "            nn.Conv2d(256, 512, 3, padding=1),\n",
    "                nn.BatchNorm2d(512),\n",
    "                nn.LeakyReLU(0.1),\n",
    "            nn.Conv2d(512, 256, 1),\n",
    "                nn.BatchNorm2d(256),\n",
    "                nn.LeakyReLU(0.1),\n",
    "            nn.Conv2d(256, 512, 3, padding=1),\n",
    "                nn.BatchNorm2d(512),\n",
    "                nn.LeakyReLU(0.1),\n",
    "            nn.Conv2d(512, 256, 1),\n",
    "                nn.BatchNorm2d(256),\n",
    "                nn.LeakyReLU(0.1),\n",
    "            nn.Conv2d(256, 512, 3, padding=1),\n",
    "                nn.BatchNorm2d(512),\n",
    "                nn.LeakyReLU(0.1),\n",
    "            nn.Conv2d(512, 256, 1),\n",
    "                nn.BatchNorm2d(256),\n",
    "                nn.LeakyReLU(0.1),\n",
    "            nn.Conv2d(256, 512, 3, padding=1),\n",
    "                nn.BatchNorm2d(512),\n",
    "                nn.LeakyReLU(0.1),\n",
    "            nn.Conv2d(512, 512, 1),\n",
    "                nn.BatchNorm2d(512),\n",
    "                nn.LeakyReLU(0.1),\n",
    "            nn.Conv2d(512, 1024, 3, padding=1),\n",
    "                nn.BatchNorm2d(1024),\n",
    "                nn.LeakyReLU(0.1),\n",
    "            nn.MaxPool2d(2, 2),\n",
    "            \n",
    "            nn.Conv2d(1024, 512, 1),\n",
    "                nn.BatchNorm2d(512),\n",
    "                nn.LeakyReLU(0.1),\n",
    "            nn.Conv2d(512, 1024, 3, padding=1),\n",
    "                nn.BatchNorm2d(1024),\n",
    "                nn.LeakyReLU(0.1),\n",
    "            nn.Conv2d(1024, 512, 1),\n",
    "                nn.BatchNorm2d(512),\n",
    "                nn.LeakyReLU(0.1),\n",
    "            nn.Conv2d(512, 1024, 3, padding=1),\n",
    "                nn.BatchNorm2d(1024),\n",
    "                nn.LeakyReLU(0.1),\n",
    "            nn.Conv2d(1024, 1024, 3, padding=1),\n",
    "                nn.BatchNorm2d(1024),\n",
    "                nn.LeakyReLU(0.1),\n",
    "            nn.Conv2d(1024, 1024, 3, padding=1, stride=2),\n",
    "                nn.BatchNorm2d(1024),\n",
    "                nn.LeakyReLU(0.1),\n",
    "            \n",
    "            nn.Conv2d(1024, 1024, 3, padding=1),\n",
    "                nn.BatchNorm2d(1024),\n",
    "                nn.LeakyReLU(0.1),\n",
    "            nn.Conv2d(1024, 1024, 3, padding=1),\n",
    "                nn.BatchNorm2d(1024),\n",
    "                nn.LeakyReLU(0.1),\n",
    "            )\n",
    "        self.fc = nn.Sequential(\n",
    "            nn.Flatten(),\n",
    "            nn.Linear(1024 * split_size * split_size, 4096),\n",
    "            nn.Dropout(0.5),\n",
    "            nn.LeakyReLU(0.1),\n",
    "            nn.Linear(4096, split_size * split_size * (num_classes + num_boxes*5))\n",
    "            )\n",
    "        \n",
    "    def forward(self, x):\n",
    "        x = self.darkNet(x)\n",
    "        x = self.fc(x)\n",
    "        return x\n",
    "    \n",
    "model = YOLOv1(7,2,20)\n",
    "x = torch.randn(2,3,448,448)\n",
    "print(model(x).shape)"
   ]
  },
  {
   "cell_type": "code",
   "execution_count": 22,
   "metadata": {},
   "outputs": [],
   "source": [
    "# Set device\n",
    "device = torch.device('cuda' if torch.cuda.is_available() else 'cpu')"
   ]
  },
  {
   "cell_type": "code",
   "execution_count": 23,
   "metadata": {},
   "outputs": [],
   "source": [
    "# Hyperparameters\n",
    "batch_size = 64\n",
    "epochs = 5\n",
    "learning_rate = 0.01"
   ]
  },
  {
   "cell_type": "code",
   "execution_count": 5,
   "metadata": {},
   "outputs": [],
   "source": [
    "# Load Data\n",
    "transform = transforms.Compose([\n",
    "    transforms.Resize(448),\n",
    "    transforms.CenterCrop(448),\n",
    "    transforms.ToTensor()\n",
    "])\n",
    "\n",
    "train_data_path = \"/bdd100k/images/100k/train/\"\n",
    "test_data_path = \"/bdd100k/images/100k/test/\"\n",
    "\n",
    "train_files = listdir(train_data_path)\n",
    "test_files = listdir(test_data_path)\n",
    "\n",
    "for i in range(len(train_files)):\n",
    "    f = random.choice(files)"
   ]
  },
  {
   "cell_type": "code",
   "execution_count": 6,
   "metadata": {},
   "outputs": [],
   "source": [
    "# Initialize network"
   ]
  },
  {
   "cell_type": "code",
   "execution_count": 7,
   "metadata": {},
   "outputs": [],
   "source": [
    "# Loss and optimizer"
   ]
  },
  {
   "cell_type": "code",
   "execution_count": 8,
   "metadata": {},
   "outputs": [],
   "source": [
    "# Train network"
   ]
  },
  {
   "cell_type": "code",
   "execution_count": 9,
   "metadata": {},
   "outputs": [],
   "source": [
    "# Check accuracy on training & test to see how good our model is"
   ]
  },
  {
   "cell_type": "code",
   "execution_count": null,
   "metadata": {},
   "outputs": [],
   "source": []
  }
 ],
 "metadata": {
  "kernelspec": {
   "display_name": "Python 3",
   "language": "python",
   "name": "python3"
  },
  "language_info": {
   "codemirror_mode": {
    "name": "ipython",
    "version": 3
   },
   "file_extension": ".py",
   "mimetype": "text/x-python",
   "name": "python",
   "nbconvert_exporter": "python",
   "pygments_lexer": "ipython3",
   "version": "3.8.3"
  }
 },
 "nbformat": 4,
 "nbformat_minor": 4
}
