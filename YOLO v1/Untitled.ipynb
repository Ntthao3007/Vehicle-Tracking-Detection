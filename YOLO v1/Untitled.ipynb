{
 "cells": [
  {
   "cell_type": "code",
   "execution_count": 4,
   "metadata": {},
   "outputs": [
    {
     "name": "stdout",
     "output_type": "stream",
     "text": [
      "cuda\n"
     ]
    }
   ],
   "source": [
    "import torch\n",
    "from torch.utils.data import DataLoader\n",
    "import torchvision.datasets as dset\n",
    "import torchvision.transforms as T\n",
    "\n",
    "transform = T.Compose([\n",
    "                T.ToTensor(),\n",
    "                T.Normalize((0.4914, 0.4822, 0.4465), (0.2023, 0.1994, 0.2010))\n",
    "            ])\n",
    "\n",
    "bdd100k_train = dset.ImageFolder('./bdd100k/images/10k/', transform=transform)\n",
    "loader_train = DataLoader(bdd100k_train, batch_size=64, shuffle=True)\n",
    "\n",
    "bdd100k_val = dset.ImageFolder('./bdd100k/images/10k/', transform=transform)\n",
    "loader_val = DataLoader(bdd100k_val, batch_size=64, shuffle=True)\n",
    "\n",
    "bdd100k_test = dset.ImageFolder('./bdd100k/images/10k/', transform=transform)\n",
    "loader_test = DataLoader(bdd100k_test, batch_size=64, shuffle=True)\n",
    "\n",
    "dtype = torch.float32\n",
    "device = torch.device('cuda')\n",
    "\n",
    "print(device)"
   ]
  },
  {
   "cell_type": "code",
   "execution_count": 8,
   "metadata": {},
   "outputs": [],
   "source": [
    "import json\n",
    "\n",
    "input_path_train = './bdd100k/images/100k/train/'\n",
    "input_path_val = './bdd100k/images/100k/val/'\n",
    "input_path_test = './bdd100k/images/100k/test/'\n",
    "\n",
    "labels_path_train = './bdd100k_labels_release/bdd100k/labels/bdd100k_labels_images_train.json'\n",
    "labels_path_val = './bdd100k_labels_release/bdd100k/labels/bdd100k_labels_images_val.json'\n",
    "labels_path_test = ''\n",
    "\n",
    "with open(labels_path_train) as f:\n",
    "    train_labels = json.loads(f.read())\n",
    "    \n",
    "with open(labels_path_val) as f:\n",
    "    val_labels = json.loads(f.read())"
   ]
  },
  {
   "cell_type": "code",
   "execution_count": 37,
   "metadata": {},
   "outputs": [
    {
     "name": "stdout",
     "output_type": "stream",
     "text": [
      "{'x1': 1000.698742, 'y1': 281.992415, 'x2': 1040.626872, 'y2': 326.91156}\n"
     ]
    }
   ],
   "source": [
    "#print(train_labels[0]['labels'][4]['box2d'])\n",
    "print(val_labels[0]['labels'][0]['box2d'])\n",
    "\n",
    "train_labels_bb = torch.zeros(10, 4)\n",
    "val_labels_bb = torch.zeros(10, 4)\n",
    "for i in range(10):\n",
    "    for count, key in enumerate(['x1', 'y1', 'x2', 'y2']):\n",
    "        pass\n",
    "        #train_labels_bb[i,count] = train_labels[i]['labels'][4]['box2d'][key]\n",
    "        #val_labels_bb[i,count] = val_labels[i]['labels'][4]['box2d'][key]\n",
    "        \n",
    "        \n",
    "#print(train_labels_bb)\n",
    "#print(val_labels_bb)"
   ]
  },
  {
   "cell_type": "code",
   "execution_count": null,
   "metadata": {},
   "outputs": [],
   "source": [
    "import torch\n",
    "import torch.nn as nn\n",
    "import torch.nn.functional as F\n",
    "\n",
    "class YOLOv1(nn.Module):\n",
    "    def __init__(self):\n",
    "        super().__init__()\n",
    "        self.conv1 = nn.Conv2d(7, 64, 7, stride=2, padding=3)\n",
    "        self.maxpool1 = nn.MaxPool2d(2, stride=2)\n",
    "        self.conv2 = nn.Conv2d(64, 192, 3)\n",
    "        self.maxpool2 = nn.MaxPool2d(2, stride=2)\n",
    "        self.conv3 = nn.Conv2d(192, 128, 1)\n",
    "        self.conv4 = nn.Conv2d(128, 256, 3)\n",
    "        self.conv5 = nn.Conv2d(256, 256, 1)\n",
    "        self.conv6 = nn.Conv2d(256, 512, 3)\n",
    "        self.maxpool3 = nn.MaxPool2d(2, stride=2)\n",
    "        self.conv7 = nn.Conv2d(512, 256, 1)\n",
    "        self.conv8 = nn.Conv2d(256, 512, 3)\n",
    "        self.conv9 = nn.Conv2d(512, 256, 1)\n",
    "        self.conv10 = nn.Conv2d(256, 512, 3)\n",
    "        self.conv11 = nn.Conv2d(512, 256, 1)\n",
    "        self.conv12 = nn.Conv2d(256, 512, 3)\n",
    "        self.conv13 = nn.Conv2d(512, 256, 1)\n",
    "        self.conv14 = nn.Conv2d(256, 512, 3)\n",
    "        self.conv15 = nn.Conv2d(512, 512, 1)\n",
    "        self.conv16 = nn.Conv2d(512, 1024, 3)\n",
    "        self.maxpool4 = nn.MaxPool2d(2, stride=2)\n",
    "        self.conv17 = nn.Conv2d(1024, 512, 1)\n",
    "        self.conv18 = nn.Conv2d(512, 1024, 3)\n",
    "        self.conv19 = nn.Conv2d(1024, 512, 1)\n",
    "        self.conv20 = nn.Conv2d(512, 1024, 3)\n",
    "        self.conv21 = nn.Conv2d(1024, 1024, 3)\n",
    "        self.conv22 = nn.Conv2d(1024, 1024, 3, stride=2)\n",
    "        self.conv23 = nn.Conv2d(1024, 1024, 3)\n",
    "        self.conv24 = nn.Conv2d(1024, 1024, 3)\n",
    "        self.fc1 = nn.Linear(1024*7*7, 4096)\n",
    "        self.fc2 = nn.Linear(4096, 7*7*30)\n",
    "    \n",
    "    def forward(self, x):\n",
    "        layer1 = F.relu(self.conv1(x))\n",
    "        layer1 = F.relu(self.conv1(x))\n",
    "        layer1 = F.relu(self.conv1(x))\n",
    "        layer1 = F.relu(self.conv1(x))\n",
    "        layer1 = F.relu(self.conv1(x))\n",
    "        layer1 = F.relu(self.conv1(x))\n",
    "        layer1 = F.relu(self.conv1(x))"
   ]
  }
 ],
 "metadata": {
  "kernelspec": {
   "display_name": "Python 3",
   "language": "python",
   "name": "python3"
  },
  "language_info": {
   "codemirror_mode": {
    "name": "ipython",
    "version": 3
   },
   "file_extension": ".py",
   "mimetype": "text/x-python",
   "name": "python",
   "nbconvert_exporter": "python",
   "pygments_lexer": "ipython3",
   "version": "3.8.3"
  }
 },
 "nbformat": 4,
 "nbformat_minor": 4
}
